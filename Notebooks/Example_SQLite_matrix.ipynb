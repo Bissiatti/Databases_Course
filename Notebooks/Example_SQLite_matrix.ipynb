{
 "cells": [
  {
   "cell_type": "markdown",
   "metadata": {},
   "source": [
    "## Exercises"
   ]
  },
  {
   "cell_type": "code",
   "execution_count": 4,
   "metadata": {},
   "outputs": [],
   "source": [
    "import os\n",
    "import sys\n",
    "import time\n",
    "import datetime\n",
    "import numpy as np\n",
    "import pandas as pd\n",
    "\n",
    "import sqlite3"
   ]
  },
  {
   "cell_type": "markdown",
   "metadata": {},
   "source": [
    "### Acessing [SQLite](https://docs.python.org/3/library/sqlite3.html)  "
   ]
  },
  {
   "cell_type": "code",
   "execution_count": 5,
   "metadata": {},
   "outputs": [],
   "source": [
    "conn = sqlite3.connect(os.path.join(\"..\",\"SampleDBs\",'matrix.db'))"
   ]
  },
  {
   "cell_type": "code",
   "execution_count": 6,
   "metadata": {},
   "outputs": [],
   "source": [
    "cur = conn.cursor()"
   ]
  },
  {
   "cell_type": "code",
   "execution_count": 9,
   "metadata": {},
   "outputs": [
    {
     "name": "stdout",
     "output_type": "stream",
     "text": [
      "[]\n"
     ]
    }
   ],
   "source": [
    "query = '''\n",
    "CREATE TABLE matrixA (\n",
    "    row_num TINYINT,\n",
    "    col_num TINYINT,\n",
    "    value TINYINT\n",
    ");\n",
    "'''\n",
    "\n",
    "cur.execute(query)"
   ]
  },
  {
   "cell_type": "code",
   "execution_count": 10,
   "metadata": {},
   "outputs": [
    {
     "name": "stdout",
     "output_type": "stream",
     "text": [
      "[]\n"
     ]
    }
   ],
   "source": [
    "query = '''\n",
    "CREATE TABLE matrixB (\n",
    "    row_num TINYINT,\n",
    "    col_num TINYINT,\n",
    "    value TINYINT\n",
    ");\n",
    "'''\n",
    "\n",
    "cur.execute(query)"
   ]
  },
  {
   "cell_type": "code",
   "execution_count": 12,
   "metadata": {},
   "outputs": [
    {
     "data": {
      "text/plain": [
       "<sqlite3.Cursor at 0x7f0715c0a8f0>"
      ]
     },
     "execution_count": 12,
     "metadata": {},
     "output_type": "execute_result"
    }
   ],
   "source": [
    "query = '''\n",
    "INSERT INTO matrixA (row_num, col_num, value)\n",
    "VALUES\n",
    "(1, 1, 1),\n",
    "(1, 2, 2),\n",
    "(1, 3, 3),\n",
    "(2, 1, 2),\n",
    "(2, 2, 5),\n",
    "(2, 3, 7);\n",
    "'''\n",
    "\n",
    "cur.execute(query)"
   ]
  },
  {
   "cell_type": "code",
   "execution_count": 18,
   "metadata": {},
   "outputs": [
    {
     "name": "stdout",
     "output_type": "stream",
     "text": [
      "(1, 1, 1)\n",
      "(1, 2, 2)\n",
      "(1, 3, 3)\n",
      "(2, 1, 2)\n",
      "(2, 2, 5)\n",
      "(2, 3, 7)\n"
     ]
    }
   ],
   "source": [
    "query = '''\n",
    "SELECT * from matrixA;\n",
    "'''\n",
    "\n",
    "cur.execute(query)\n",
    "for row in cur.fetchall():\n",
    "    print(row)"
   ]
  },
  {
   "cell_type": "code",
   "execution_count": 13,
   "metadata": {},
   "outputs": [
    {
     "data": {
      "text/plain": [
       "<sqlite3.Cursor at 0x7f0715c0a8f0>"
      ]
     },
     "execution_count": 13,
     "metadata": {},
     "output_type": "execute_result"
    }
   ],
   "source": [
    "query = '''\n",
    "INSERT INTO matrixB (row_num, col_num, value)\n",
    "VALUES\n",
    "(1, 1, 2),\n",
    "(1, 2, 4),\n",
    "(1, 3, 8),\n",
    "(2, 1, 1),\n",
    "(2, 2, 5),\n",
    "(2, 3, 10),\n",
    "(3, 1, 3),\n",
    "(3, 2, 6),\n",
    "(3, 3, 9);\n",
    "'''\n",
    "\n",
    "cur.execute(query)"
   ]
  },
  {
   "cell_type": "code",
   "execution_count": 15,
   "metadata": {},
   "outputs": [
    {
     "name": "stdout",
     "output_type": "stream",
     "text": [
      "[(2, 3, 129)]\n"
     ]
    }
   ],
   "source": [
    "query = '''\n",
    "SELECT A.row_num, B.col_num, SUM(A.value * B.value) AS result\n",
    "FROM matrixA AS A\n",
    "INNER JOIN matrixB AS B\n",
    "ON A.col_num = B.row_num\n",
    "WHERE A.row_num = 2\n",
    "AND B.col_num = 3\n",
    "GROUP BY A.row_num, B.col_num;\n",
    "'''\n",
    "\n",
    "cur.execute(query)\n",
    "print(cur.fetchall())"
   ]
  },
  {
   "cell_type": "code",
   "execution_count": null,
   "metadata": {},
   "outputs": [],
   "source": []
  }
 ],
 "metadata": {
  "kernelspec": {
   "display_name": "Python 3",
   "language": "python",
   "name": "python3"
  },
  "language_info": {
   "codemirror_mode": {
    "name": "ipython",
    "version": 3
   },
   "file_extension": ".py",
   "mimetype": "text/x-python",
   "name": "python",
   "nbconvert_exporter": "python",
   "pygments_lexer": "ipython3",
   "version": "3.7.6"
  }
 },
 "nbformat": 4,
 "nbformat_minor": 4
}
