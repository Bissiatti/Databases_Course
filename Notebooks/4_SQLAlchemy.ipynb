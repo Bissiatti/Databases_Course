{
 "cells": [
  {
   "cell_type": "markdown",
   "metadata": {},
   "source": [
    "# SQLAlchemy "
   ]
  },
  {
   "cell_type": "code",
   "execution_count": 32,
   "metadata": {},
   "outputs": [],
   "source": [
    "#!pip install mysqlclient\n",
    "#! pip install python-dotenv"
   ]
  },
  {
   "cell_type": "code",
   "execution_count": 33,
   "metadata": {},
   "outputs": [],
   "source": [
    "from sqlalchemy import create_engine, Column, Integer, String, Sequence, Float,PrimaryKeyConstraint, ForeignKey\n",
    "from sqlalchemy.ext.declarative import declarative_base\n",
    "from sqlalchemy.orm import sessionmaker, relationship, backref\n",
    "from sqlalchemy.sql import *\n",
    "import os\n",
    "from dotenv import load_dotenv, find_dotenv\n",
    "import getpass"
   ]
  },
  {
   "cell_type": "code",
   "execution_count": 34,
   "metadata": {},
   "outputs": [
    {
     "name": "stdout",
     "output_type": "stream",
     "text": [
      "········\n"
     ]
    }
   ],
   "source": [
    "p = getpass.getpass()"
   ]
  },
  {
   "cell_type": "code",
   "execution_count": 35,
   "metadata": {},
   "outputs": [],
   "source": [
    "def connect_db():\n",
    "    db = create_engine('mysql://root:' + p + '@localhost/mysql')\n",
    "    return db"
   ]
  },
  {
   "cell_type": "code",
   "execution_count": 36,
   "metadata": {},
   "outputs": [],
   "source": [
    "Base = declarative_base()"
   ]
  },
  {
   "cell_type": "markdown",
   "metadata": {},
   "source": [
    "Criação das Tabelas"
   ]
  },
  {
   "cell_type": "code",
   "execution_count": 37,
   "metadata": {},
   "outputs": [],
   "source": [
    "class Edificio(Base):\n",
    "    __tablename__ = \"edificio\"\n",
    "    \n",
    "    id_edificio = Column(Integer, Sequence('id_edificio_seq'), primary_key = True)\n",
    "    nome = Column(String(100), index=True, nullable = True)\n",
    "    ano_de_construcao = Column(String(100), index = True, nullable = True)\n",
    "    endereco = Column(String(100), index = True, nullable = True)"
   ]
  },
  {
   "cell_type": "code",
   "execution_count": 38,
   "metadata": {},
   "outputs": [],
   "source": [
    "estilo = relationship('Estilo', backref = 'edificio',lazy=True, cascade = \"all, delete-orphan\")\n",
    "arquiteto = relationship('Arquiteto', backref = 'edificio', lazy = True, cascade = \"all, delete-orphan\")\n",
    "categoria = relationship('CategoriaEdificio', backref = 'edificio', lazy = True,cascade = \"all, delete-orphan\")"
   ]
  },
  {
   "cell_type": "code",
   "execution_count": 39,
   "metadata": {},
   "outputs": [],
   "source": [
    "class Estilo(Base):\n",
    "    __tablename__=\"estilo\"\n",
    "    __table_args__ = (\n",
    "        PrimaryKeyConstraint('id_edificio', 'estilo'),\n",
    "    )\n",
    "    id_edificio =Column(Integer,ForeignKey('edificio.id_edificio'))\n",
    "    estilo = Column(String(100), index = True)\n",
    "\n",
    "class Arquiteto(Base):\n",
    "    __tablename__=\"arquiteto\"\n",
    "    __table_args__ = (\n",
    "        PrimaryKeyConstraint('id_edificio', 'nome_arquiteto'),\n",
    "    )\n",
    "    id_edificio= Column(Integer,ForeignKey('edificio.id_edificio'))\n",
    "    nome_arquiteto = Column(String(100), index = True)\n",
    "\n",
    "class CategoriaEdificio(Base):\n",
    "    __tablename__=\"categoria_edificio\"\n",
    "    __table_args__ = (\n",
    "        PrimaryKeyConstraint('id_edificio', 'categoria'),\n",
    "    )\n",
    "    id_edificio = Column(Integer,ForeignKey('edificio.id_edificio'))\n",
    "    categoria = Column(String(100), index = True)"
   ]
  },
  {
   "cell_type": "code",
   "execution_count": 40,
   "metadata": {},
   "outputs": [],
   "source": [
    "engine = connect_db()\n",
    "Edificio.__table__.create(bind=engine, checkfirst=True)\n",
    "Estilo.__table__.create(bind=engine, checkfirst=True)\n",
    "Arquiteto.__table__.create(bind=engine, checkfirst=True)\n",
    "CategoriaEdificio.__table__.create(bind=engine, checkfirst=True)"
   ]
  },
  {
   "cell_type": "code",
   "execution_count": 41,
   "metadata": {},
   "outputs": [],
   "source": [
    "db = connect_db()\n",
    "Session = sessionmaker(bind=db)\n",
    "session = Session()"
   ]
  },
  {
   "cell_type": "markdown",
   "metadata": {},
   "source": [
    "Inserção dos Dados"
   ]
  },
  {
   "cell_type": "code",
   "execution_count": 42,
   "metadata": {},
   "outputs": [],
   "source": [
    "session.add(Edificio(nome = 'Linked Hybrid', ano_de_construcao = '2009', endereco = 'Pequim - China'))\n",
    "session.add(Edificio(nome = 'Casa Moby Dick', ano_de_construcao = '2003', endereco = 'Espoo - Finlândia'))\n",
    "session.add(Edificio(nome = 'Apartamentos WoZoCo', ano_de_construcao = '1997', endereco = 'Amsterdã - Holanda'))\n",
    "session.add(Edificio(nome = 'Casas Cubo', ano_de_construcao = '1984', endereco = 'Roterdã - Holanda'))\n",
    "session.add(Edificio(nome = 'Museu Perot de Ciência Natural', ano_de_construcao = '2012', endereco = 'Dallas - Estados Unidos'))\n",
    "session.commit()"
   ]
  },
  {
   "cell_type": "code",
   "execution_count": 43,
   "metadata": {},
   "outputs": [],
   "source": [
    "session.add(CategoriaEdificio(id_edificio = 1, categoria = \"Comércio\"))\n",
    "session.add(CategoriaEdificio(id_edificio = 2, categoria = \"Exposição\"))\n",
    "session.add(CategoriaEdificio(id_edificio = 3, categoria = \"Moradia\"))\n",
    "session.add(CategoriaEdificio(id_edificio = 4, categoria = \"Comércio\"))\n",
    "session.add(CategoriaEdificio(id_edificio = 5, categoria = \"Museu\"))\n",
    "session.commit()"
   ]
  },
  {
   "cell_type": "code",
   "execution_count": 44,
   "metadata": {},
   "outputs": [],
   "source": [
    "session.add(Arquiteto(id_edificio = 1, nome_arquiteto = \"Su Dong Xia\"))\n",
    "session.add(Arquiteto(id_edificio = 2, nome_arquiteto = \"Paavo Seppo Aadolf\"))\n",
    "session.add(Arquiteto(id_edificio = 3, nome_arquiteto = \"Norbert Ágoston Odd\"))\n",
    "session.add(Arquiteto(id_edificio = 4, nome_arquiteto = \"Jere Petri Aulis\"))\n",
    "session.add(Arquiteto(id_edificio = 5, nome_arquiteto = \"Jóhannes Amrit Bogdan\"))\n",
    "session.commit()"
   ]
  },
  {
   "cell_type": "markdown",
   "metadata": {},
   "source": [
    "Exploração"
   ]
  },
  {
   "cell_type": "code",
   "execution_count": 45,
   "metadata": {},
   "outputs": [
    {
     "data": {
      "text/plain": [
       "10"
      ]
     },
     "execution_count": 45,
     "metadata": {},
     "output_type": "execute_result"
    }
   ],
   "source": [
    "session.query(Edificio).count()"
   ]
  },
  {
   "cell_type": "code",
   "execution_count": 46,
   "metadata": {},
   "outputs": [],
   "source": [
    "deletar_arquiteto = session.query(Arquiteto).filter(Arquiteto.id_edificio==1).first()\n",
    "session.delete(deletar_arquiteto)\n",
    "session.commit()"
   ]
  },
  {
   "cell_type": "code",
   "execution_count": 47,
   "metadata": {},
   "outputs": [],
   "source": [
    "import pandas as pd\n",
    "df = pd.read_sql(session.query(Edificio).statement, session.bind)"
   ]
  },
  {
   "cell_type": "code",
   "execution_count": 48,
   "metadata": {},
   "outputs": [
    {
     "data": {
      "text/html": [
       "<div>\n",
       "<style scoped>\n",
       "    .dataframe tbody tr th:only-of-type {\n",
       "        vertical-align: middle;\n",
       "    }\n",
       "\n",
       "    .dataframe tbody tr th {\n",
       "        vertical-align: top;\n",
       "    }\n",
       "\n",
       "    .dataframe thead th {\n",
       "        text-align: right;\n",
       "    }\n",
       "</style>\n",
       "<table border=\"1\" class=\"dataframe\">\n",
       "  <thead>\n",
       "    <tr style=\"text-align: right;\">\n",
       "      <th></th>\n",
       "      <th>id_edificio</th>\n",
       "      <th>nome</th>\n",
       "      <th>ano_de_construcao</th>\n",
       "      <th>endereco</th>\n",
       "    </tr>\n",
       "  </thead>\n",
       "  <tbody>\n",
       "    <tr>\n",
       "      <th>0</th>\n",
       "      <td>1</td>\n",
       "      <td>Linked Hybrid</td>\n",
       "      <td>2009</td>\n",
       "      <td>Pequim - China</td>\n",
       "    </tr>\n",
       "    <tr>\n",
       "      <th>1</th>\n",
       "      <td>2</td>\n",
       "      <td>Casa Moby Dick</td>\n",
       "      <td>2003</td>\n",
       "      <td>Espoo - Finlândia</td>\n",
       "    </tr>\n",
       "    <tr>\n",
       "      <th>2</th>\n",
       "      <td>3</td>\n",
       "      <td>Apartamentos WoZoCo</td>\n",
       "      <td>1997</td>\n",
       "      <td>Amsterdã - Holanda</td>\n",
       "    </tr>\n",
       "    <tr>\n",
       "      <th>3</th>\n",
       "      <td>4</td>\n",
       "      <td>Casas Cubo</td>\n",
       "      <td>1984</td>\n",
       "      <td>Roterdã - Holanda</td>\n",
       "    </tr>\n",
       "    <tr>\n",
       "      <th>4</th>\n",
       "      <td>5</td>\n",
       "      <td>Museu Perot de Ciência Natural</td>\n",
       "      <td>2012</td>\n",
       "      <td>Dallas - Estados Unidos</td>\n",
       "    </tr>\n",
       "    <tr>\n",
       "      <th>5</th>\n",
       "      <td>6</td>\n",
       "      <td>Linked Hybrid</td>\n",
       "      <td>2009</td>\n",
       "      <td>Pequim - China</td>\n",
       "    </tr>\n",
       "    <tr>\n",
       "      <th>6</th>\n",
       "      <td>7</td>\n",
       "      <td>Casa Moby Dick</td>\n",
       "      <td>2003</td>\n",
       "      <td>Espoo - Finlândia</td>\n",
       "    </tr>\n",
       "    <tr>\n",
       "      <th>7</th>\n",
       "      <td>8</td>\n",
       "      <td>Apartamentos WoZoCo</td>\n",
       "      <td>1997</td>\n",
       "      <td>Amsterdã - Holanda</td>\n",
       "    </tr>\n",
       "    <tr>\n",
       "      <th>8</th>\n",
       "      <td>9</td>\n",
       "      <td>Casas Cubo</td>\n",
       "      <td>1984</td>\n",
       "      <td>Roterdã - Holanda</td>\n",
       "    </tr>\n",
       "    <tr>\n",
       "      <th>9</th>\n",
       "      <td>10</td>\n",
       "      <td>Museu Perot de Ciência Natural</td>\n",
       "      <td>2012</td>\n",
       "      <td>Dallas - Estados Unidos</td>\n",
       "    </tr>\n",
       "  </tbody>\n",
       "</table>\n",
       "</div>"
      ],
      "text/plain": [
       "   id_edificio                            nome ano_de_construcao  \\\n",
       "0            1                   Linked Hybrid              2009   \n",
       "1            2                  Casa Moby Dick              2003   \n",
       "2            3             Apartamentos WoZoCo              1997   \n",
       "3            4                      Casas Cubo              1984   \n",
       "4            5  Museu Perot de Ciência Natural              2012   \n",
       "5            6                   Linked Hybrid              2009   \n",
       "6            7                  Casa Moby Dick              2003   \n",
       "7            8             Apartamentos WoZoCo              1997   \n",
       "8            9                      Casas Cubo              1984   \n",
       "9           10  Museu Perot de Ciência Natural              2012   \n",
       "\n",
       "                  endereco  \n",
       "0           Pequim - China  \n",
       "1        Espoo - Finlândia  \n",
       "2       Amsterdã - Holanda  \n",
       "3        Roterdã - Holanda  \n",
       "4  Dallas - Estados Unidos  \n",
       "5           Pequim - China  \n",
       "6        Espoo - Finlândia  \n",
       "7       Amsterdã - Holanda  \n",
       "8        Roterdã - Holanda  \n",
       "9  Dallas - Estados Unidos  "
      ]
     },
     "execution_count": 48,
     "metadata": {},
     "output_type": "execute_result"
    }
   ],
   "source": [
    "df"
   ]
  },
  {
   "cell_type": "code",
   "execution_count": 49,
   "metadata": {},
   "outputs": [
    {
     "data": {
      "text/html": [
       "<div>\n",
       "<style scoped>\n",
       "    .dataframe tbody tr th:only-of-type {\n",
       "        vertical-align: middle;\n",
       "    }\n",
       "\n",
       "    .dataframe tbody tr th {\n",
       "        vertical-align: top;\n",
       "    }\n",
       "\n",
       "    .dataframe thead th {\n",
       "        text-align: right;\n",
       "    }\n",
       "</style>\n",
       "<table border=\"1\" class=\"dataframe\">\n",
       "  <thead>\n",
       "    <tr style=\"text-align: right;\">\n",
       "      <th></th>\n",
       "      <th>id_edificio</th>\n",
       "      <th>nome</th>\n",
       "      <th>ano_de_construcao</th>\n",
       "      <th>endereco</th>\n",
       "    </tr>\n",
       "  </thead>\n",
       "  <tbody>\n",
       "    <tr>\n",
       "      <th>0</th>\n",
       "      <td>1</td>\n",
       "      <td>Linked Hybrid</td>\n",
       "      <td>2009</td>\n",
       "      <td>Pequim - China</td>\n",
       "    </tr>\n",
       "    <tr>\n",
       "      <th>1</th>\n",
       "      <td>2</td>\n",
       "      <td>Casa Moby Dick</td>\n",
       "      <td>2003</td>\n",
       "      <td>Espoo - Finlândia</td>\n",
       "    </tr>\n",
       "    <tr>\n",
       "      <th>4</th>\n",
       "      <td>5</td>\n",
       "      <td>Museu Perot de Ciência Natural</td>\n",
       "      <td>2012</td>\n",
       "      <td>Dallas - Estados Unidos</td>\n",
       "    </tr>\n",
       "    <tr>\n",
       "      <th>5</th>\n",
       "      <td>6</td>\n",
       "      <td>Linked Hybrid</td>\n",
       "      <td>2009</td>\n",
       "      <td>Pequim - China</td>\n",
       "    </tr>\n",
       "    <tr>\n",
       "      <th>6</th>\n",
       "      <td>7</td>\n",
       "      <td>Casa Moby Dick</td>\n",
       "      <td>2003</td>\n",
       "      <td>Espoo - Finlândia</td>\n",
       "    </tr>\n",
       "    <tr>\n",
       "      <th>9</th>\n",
       "      <td>10</td>\n",
       "      <td>Museu Perot de Ciência Natural</td>\n",
       "      <td>2012</td>\n",
       "      <td>Dallas - Estados Unidos</td>\n",
       "    </tr>\n",
       "  </tbody>\n",
       "</table>\n",
       "</div>"
      ],
      "text/plain": [
       "   id_edificio                            nome ano_de_construcao  \\\n",
       "0            1                   Linked Hybrid              2009   \n",
       "1            2                  Casa Moby Dick              2003   \n",
       "4            5  Museu Perot de Ciência Natural              2012   \n",
       "5            6                   Linked Hybrid              2009   \n",
       "6            7                  Casa Moby Dick              2003   \n",
       "9           10  Museu Perot de Ciência Natural              2012   \n",
       "\n",
       "                  endereco  \n",
       "0           Pequim - China  \n",
       "1        Espoo - Finlândia  \n",
       "4  Dallas - Estados Unidos  \n",
       "5           Pequim - China  \n",
       "6        Espoo - Finlândia  \n",
       "9  Dallas - Estados Unidos  "
      ]
     },
     "execution_count": 49,
     "metadata": {},
     "output_type": "execute_result"
    }
   ],
   "source": [
    "df.query(\"ano_de_construcao >= '2000'\")"
   ]
  },
  {
   "cell_type": "code",
   "execution_count": 50,
   "metadata": {},
   "outputs": [
    {
     "data": {
      "text/html": [
       "<div>\n",
       "<style scoped>\n",
       "    .dataframe tbody tr th:only-of-type {\n",
       "        vertical-align: middle;\n",
       "    }\n",
       "\n",
       "    .dataframe tbody tr th {\n",
       "        vertical-align: top;\n",
       "    }\n",
       "\n",
       "    .dataframe thead th {\n",
       "        text-align: right;\n",
       "    }\n",
       "</style>\n",
       "<table border=\"1\" class=\"dataframe\">\n",
       "  <thead>\n",
       "    <tr style=\"text-align: right;\">\n",
       "      <th></th>\n",
       "      <th>id_edificio</th>\n",
       "      <th>nome</th>\n",
       "      <th>ano_de_construcao</th>\n",
       "      <th>endereco</th>\n",
       "    </tr>\n",
       "  </thead>\n",
       "  <tbody>\n",
       "    <tr>\n",
       "      <th>2</th>\n",
       "      <td>3</td>\n",
       "      <td>Apartamentos WoZoCo</td>\n",
       "      <td>1997</td>\n",
       "      <td>Amsterdã - Holanda</td>\n",
       "    </tr>\n",
       "    <tr>\n",
       "      <th>3</th>\n",
       "      <td>4</td>\n",
       "      <td>Casas Cubo</td>\n",
       "      <td>1984</td>\n",
       "      <td>Roterdã - Holanda</td>\n",
       "    </tr>\n",
       "    <tr>\n",
       "      <th>7</th>\n",
       "      <td>8</td>\n",
       "      <td>Apartamentos WoZoCo</td>\n",
       "      <td>1997</td>\n",
       "      <td>Amsterdã - Holanda</td>\n",
       "    </tr>\n",
       "    <tr>\n",
       "      <th>8</th>\n",
       "      <td>9</td>\n",
       "      <td>Casas Cubo</td>\n",
       "      <td>1984</td>\n",
       "      <td>Roterdã - Holanda</td>\n",
       "    </tr>\n",
       "  </tbody>\n",
       "</table>\n",
       "</div>"
      ],
      "text/plain": [
       "   id_edificio                 nome ano_de_construcao            endereco\n",
       "2            3  Apartamentos WoZoCo              1997  Amsterdã - Holanda\n",
       "3            4           Casas Cubo              1984   Roterdã - Holanda\n",
       "7            8  Apartamentos WoZoCo              1997  Amsterdã - Holanda\n",
       "8            9           Casas Cubo              1984   Roterdã - Holanda"
      ]
     },
     "execution_count": 50,
     "metadata": {},
     "output_type": "execute_result"
    }
   ],
   "source": [
    "df.query('endereco.str.contains(\"Holanda\")', engine='python')"
   ]
  }
 ],
 "metadata": {
  "kernelspec": {
   "display_name": "Python 3",
   "language": "python",
   "name": "python3"
  },
  "language_info": {
   "codemirror_mode": {
    "name": "ipython",
    "version": 3
   },
   "file_extension": ".py",
   "mimetype": "text/x-python",
   "name": "python",
   "nbconvert_exporter": "python",
   "pygments_lexer": "ipython3",
   "version": "3.8.3"
  }
 },
 "nbformat": 4,
 "nbformat_minor": 4
}
